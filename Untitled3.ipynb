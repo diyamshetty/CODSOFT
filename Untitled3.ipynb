{
  "nbformat": 4,
  "nbformat_minor": 0,
  "metadata": {
    "colab": {
      "provenance": [],
      "toc_visible": true,
      "authorship_tag": "ABX9TyN0TAq313sjiLxKldOJMA7W",
      "include_colab_link": true
    },
    "kernelspec": {
      "name": "python3",
      "display_name": "Python 3"
    },
    "language_info": {
      "name": "python"
    }
  },
  "cells": [
    {
      "cell_type": "markdown",
      "metadata": {
        "id": "view-in-github",
        "colab_type": "text"
      },
      "source": [
        "<a href=\"https://colab.research.google.com/github/diyamshetty/CODSOFT/blob/main/Untitled3.ipynb\" target=\"_parent\"><img src=\"https://colab.research.google.com/assets/colab-badge.svg\" alt=\"Open In Colab\"/></a>"
      ]
    },
    {
      "cell_type": "code",
      "execution_count": 45,
      "metadata": {
        "id": "nXISNLQc17J2"
      },
      "outputs": [],
      "source": [
        "import pandas as pd\n",
        "from sklearn.model_selection import train_test_split\n",
        "from sklearn.preprocessing import LabelEncoder,OneHotEncoder\n",
        "from sklearn.compose import ColumnTransformer\n",
        "from sklearn.pipeline import Pipeline\n",
        "from sklearn.impute import SimpleImputer\n",
        "from sklearn.ensemble import RandomForestRegressor\n",
        "from sklearn.metrics import mean_squared_error\n",
        "import matplotlib.pyplot as plt\n",
        "import numpy as np\n",
        "import seaborn as sns\n",
        "import matplotlib.pyplot as plt"
      ]
    },
    {
      "cell_type": "code",
      "source": [
        "df_data = pd.read_csv('/content/movie-Dataset.csv', encoding='latin1')\n",
        "print(df_data.head())"
      ],
      "metadata": {
        "colab": {
          "base_uri": "https://localhost:8080/"
        },
        "id": "yoj6LP_y2i-n",
        "outputId": "7a32d46a-46bf-481c-9dc2-3c3a60cc5e95"
      },
      "execution_count": 16,
      "outputs": [
        {
          "output_type": "stream",
          "name": "stdout",
          "text": [
            "                                 Name    Year Duration            Genre  \\\n",
            "0                                         NaN      NaN            Drama   \n",
            "1  #Gadhvi (He thought he was Gandhi) -2019.0  109 min            Drama   \n",
            "2                         #Homecoming -2021.0   90 min   Drama, Musical   \n",
            "3                             #Yaaram -2019.0  110 min  Comedy, Romance   \n",
            "4                   ...And Once Again -2010.0  105 min            Drama   \n",
            "\n",
            "   Rating Votes            Director       Actor 1             Actor 2  \\\n",
            "0     NaN   NaN       J.S. Randhawa      Manmauji              Birbal   \n",
            "1     7.0     8       Gaurav Bakshi  Rasika Dugal      Vivek Ghamande   \n",
            "2     NaN   NaN  Soumyajit Majumdar  Sayani Gupta   Plabita Borthakur   \n",
            "3     4.4    35          Ovais Khan       Prateik          Ishita Raj   \n",
            "4     NaN   NaN        Amol Palekar  Rajat Kapoor  Rituparna Sengupta   \n",
            "\n",
            "           Actor 3  \n",
            "0  Rajendra Bhatia  \n",
            "1    Arvind Jangid  \n",
            "2       Roy Angana  \n",
            "3  Siddhant Kapoor  \n",
            "4      Antara Mali  \n"
          ]
        }
      ]
    },
    {
      "cell_type": "code",
      "source": [
        "df_data.shape"
      ],
      "metadata": {
        "colab": {
          "base_uri": "https://localhost:8080/"
        },
        "id": "Ul2hmkeR4BZ-",
        "outputId": "d7332fcd-2f73-49ac-b47e-07cd9dfc1b81"
      },
      "execution_count": 17,
      "outputs": [
        {
          "output_type": "execute_result",
          "data": {
            "text/plain": [
              "(15509, 10)"
            ]
          },
          "metadata": {},
          "execution_count": 17
        }
      ]
    },
    {
      "cell_type": "code",
      "source": [
        "df_data.info()"
      ],
      "metadata": {
        "colab": {
          "base_uri": "https://localhost:8080/"
        },
        "id": "mrIJW_0V40hd",
        "outputId": "5cc15b91-92c0-4bdd-c281-061544b093fc"
      },
      "execution_count": 18,
      "outputs": [
        {
          "output_type": "stream",
          "name": "stdout",
          "text": [
            "<class 'pandas.core.frame.DataFrame'>\n",
            "RangeIndex: 15509 entries, 0 to 15508\n",
            "Data columns (total 10 columns):\n",
            " #   Column    Non-Null Count  Dtype  \n",
            "---  ------    --------------  -----  \n",
            " 0   Name      15509 non-null  object \n",
            " 1   Year      14981 non-null  float64\n",
            " 2   Duration  7240 non-null   object \n",
            " 3   Genre     13632 non-null  object \n",
            " 4   Rating    7919 non-null   float64\n",
            " 5   Votes     7920 non-null   object \n",
            " 6   Director  14984 non-null  object \n",
            " 7   Actor 1   13892 non-null  object \n",
            " 8   Actor 2   13125 non-null  object \n",
            " 9   Actor 3   12365 non-null  object \n",
            "dtypes: float64(2), object(8)\n",
            "memory usage: 1.2+ MB\n"
          ]
        }
      ]
    },
    {
      "cell_type": "code",
      "source": [
        "df_data = df_data.dropna(subset=['Rating'])"
      ],
      "metadata": {
        "id": "HPP0GRqX4_B3"
      },
      "execution_count": 19,
      "outputs": []
    },
    {
      "cell_type": "code",
      "source": [
        "features = ['Genre', 'Director', 'Actor 1', 'Actor 2', 'Actor 3']\n",
        "X = df_data[features]\n",
        "y = df_data['Rating']"
      ],
      "metadata": {
        "id": "KSyfeCwi5RMa"
      },
      "execution_count": 20,
      "outputs": []
    },
    {
      "cell_type": "code",
      "source": [
        "df_data.dropna(subset=['Name', 'Year', 'Duration', 'Votes', 'Rating'], inplace=True)\n"
      ],
      "metadata": {
        "id": "SbtfupbY8zDe"
      },
      "execution_count": 46,
      "outputs": []
    },
    {
      "cell_type": "code",
      "source": [
        "df_data['Year'] = df_data['Year'].apply(lambda x: int(x.strip('()')) if isinstance(x, str) else x)\n",
        "\n",
        "print(df_data.head())"
      ],
      "metadata": {
        "colab": {
          "base_uri": "https://localhost:8080/"
        },
        "id": "saJkhHOT9VOx",
        "outputId": "61906ca8-68bb-4a14-a87b-8a31c6c28299"
      },
      "execution_count": 49,
      "outputs": [
        {
          "output_type": "stream",
          "name": "stdout",
          "text": [
            "                                 Name    Year  Duration  \\\n",
            "1  #Gadhvi (He thought he was Gandhi) -2019.0       109   \n",
            "3                             #Yaaram -2019.0       110   \n",
            "5                ...Aur Pyaar Ho Gaya -1997.0       147   \n",
            "6                           ...Yahaan -2005.0       142   \n",
            "8                  ?: A Question Mark -2012.0        82   \n",
            "\n",
            "                       Genre  Rating  Votes  Director  Actor 1  Actor 2  \\\n",
            "1                      Drama     7.0      8       660      467     1474   \n",
            "3            Comedy, Romance     4.4     35      1406      292     2081   \n",
            "5     Comedy, Drama, Musical     4.7    827      1605     1379     2108   \n",
            "6        Drama, Romance, War     7.4   1086      2143     1747      155   \n",
            "8  Horror, Mystery, Thriller     5.6    326       144     1137      227   \n",
            "\n",
            "   Actor 3  ...  Musical  Mystery  News  Romance  Sci-Fi  Sport  Thriller  \\\n",
            "1     1822  ...        0        0     0        0       0      0         0   \n",
            "3     1294  ...        0        0     0        1       0      0         0   \n",
            "5     1178  ...        1        0     0        0       0      0         0   \n",
            "6     1715  ...        0        0     0        1       0      0         0   \n",
            "8       29  ...        0        1     0        0       0      0         1   \n",
            "\n",
            "   Unknown  War  Western  \n",
            "1        0    0        0  \n",
            "3        0    0        0  \n",
            "5        0    0        0  \n",
            "6        0    1        0  \n",
            "8        0    0        0  \n",
            "\n",
            "[5 rows x 33 columns]\n"
          ]
        }
      ]
    },
    {
      "cell_type": "code",
      "source": [
        "df_data['Votes'] = df_data['Votes'].apply(lambda x: int(str(x).replace(',', '')) if isinstance(x, str) else x)\n",
        "print(df_data.head())"
      ],
      "metadata": {
        "colab": {
          "base_uri": "https://localhost:8080/"
        },
        "id": "p_EToUhx90T2",
        "outputId": "b0c48396-8e41-46bd-89e0-be8222f278cf"
      },
      "execution_count": 52,
      "outputs": [
        {
          "output_type": "stream",
          "name": "stdout",
          "text": [
            "                                 Name    Year  Duration  \\\n",
            "1  #Gadhvi (He thought he was Gandhi) -2019.0       109   \n",
            "3                             #Yaaram -2019.0       110   \n",
            "5                ...Aur Pyaar Ho Gaya -1997.0       147   \n",
            "6                           ...Yahaan -2005.0       142   \n",
            "8                  ?: A Question Mark -2012.0        82   \n",
            "\n",
            "                       Genre  Rating  Votes  Director  Actor 1  Actor 2  \\\n",
            "1                      Drama     7.0      8       660      467     1474   \n",
            "3            Comedy, Romance     4.4     35      1406      292     2081   \n",
            "5     Comedy, Drama, Musical     4.7    827      1605     1379     2108   \n",
            "6        Drama, Romance, War     7.4   1086      2143     1747      155   \n",
            "8  Horror, Mystery, Thriller     5.6    326       144     1137      227   \n",
            "\n",
            "   Actor 3  ...  Musical  Mystery  News  Romance  Sci-Fi  Sport  Thriller  \\\n",
            "1     1822  ...        0        0     0        0       0      0         0   \n",
            "3     1294  ...        0        0     0        1       0      0         0   \n",
            "5     1178  ...        1        0     0        0       0      0         0   \n",
            "6     1715  ...        0        0     0        1       0      0         0   \n",
            "8       29  ...        0        1     0        0       0      0         1   \n",
            "\n",
            "   Unknown  War  Western  \n",
            "1        0    0        0  \n",
            "3        0    0        0  \n",
            "5        0    0        0  \n",
            "6        0    1        0  \n",
            "8        0    0        0  \n",
            "\n",
            "[5 rows x 33 columns]\n"
          ]
        }
      ]
    },
    {
      "cell_type": "code",
      "source": [
        "df_data['Duration'] = df_data['Duration'].apply(lambda x: int(str(x).replace('min', '')) if isinstance(x, str) else x)\n",
        "print(df_data.head())"
      ],
      "metadata": {
        "colab": {
          "base_uri": "https://localhost:8080/"
        },
        "id": "oQ_cW3np9_Ze",
        "outputId": "864afc0b-a0a1-4225-d3b6-7f58a17fc588"
      },
      "execution_count": 25,
      "outputs": [
        {
          "output_type": "stream",
          "name": "stdout",
          "text": [
            "                                 Name    Year  Duration  \\\n",
            "1  #Gadhvi (He thought he was Gandhi) -2019.0       109   \n",
            "3                             #Yaaram -2019.0       110   \n",
            "5                ...Aur Pyaar Ho Gaya -1997.0       147   \n",
            "6                           ...Yahaan -2005.0       142   \n",
            "8                  ?: A Question Mark -2012.0        82   \n",
            "\n",
            "                       Genre  Rating  Votes        Director          Actor 1  \\\n",
            "1                      Drama     7.0      8   Gaurav Bakshi     Rasika Dugal   \n",
            "3            Comedy, Romance     4.4     35      Ovais Khan          Prateik   \n",
            "5     Comedy, Drama, Musical     4.7    827    Rahul Rawail       Bobby Deol   \n",
            "6        Drama, Romance, War     7.4   1086  Shoojit Sircar  Jimmy Sheirgill   \n",
            "8  Horror, Mystery, Thriller     5.6    326   Allyson Patel        Yash Dave   \n",
            "\n",
            "                  Actor 2          Actor 3  \n",
            "1          Vivek Ghamande    Arvind Jangid  \n",
            "3              Ishita Raj  Siddhant Kapoor  \n",
            "5  Aishwarya Rai Bachchan    Shammi Kapoor  \n",
            "6          Minissha Lamba   Yashpal Sharma  \n",
            "8          Muntazir Ahmad     Kiran Bhatia  \n"
          ]
        }
      ]
    },
    {
      "cell_type": "code",
      "source": [
        "df_data.fillna('Unknown', inplace=True)\n"
      ],
      "metadata": {
        "id": "SifB0bvT-H2n"
      },
      "execution_count": 26,
      "outputs": []
    },
    {
      "cell_type": "code",
      "source": [
        "df_data = pd.get_dummies(df_data, columns=['Director'], drop_first=True)"
      ],
      "metadata": {
        "id": "U6U6TjMNB7Ac"
      },
      "execution_count": 54,
      "outputs": []
    },
    {
      "cell_type": "code",
      "source": [
        "label_encoder = LabelEncoder()\n",
        "df_data['Actor 1'] = label_encoder.fit_transform(df_data['Actor 1'].astype(str))\n",
        "df_data['Actor 2'] = label_encoder.fit_transform(df_data['Actor 2'].astype(str))\n",
        "df_data['Actor 3'] = label_encoder.fit_transform(df_data['Actor 3'].astype(str))\n",
        "print(df_data.head())"
      ],
      "metadata": {
        "colab": {
          "base_uri": "https://localhost:8080/"
        },
        "id": "eXVVILjD-MBw",
        "outputId": "c8418bf2-832f-4745-c831-b2a28894b744"
      },
      "execution_count": 31,
      "outputs": [
        {
          "output_type": "stream",
          "name": "stdout",
          "text": [
            "                                 Name    Year  Duration  \\\n",
            "1  #Gadhvi (He thought he was Gandhi) -2019.0       109   \n",
            "3                             #Yaaram -2019.0       110   \n",
            "5                ...Aur Pyaar Ho Gaya -1997.0       147   \n",
            "6                           ...Yahaan -2005.0       142   \n",
            "8                  ?: A Question Mark -2012.0        82   \n",
            "\n",
            "                       Genre  Rating  Votes        Director  Actor 1  Actor 2  \\\n",
            "1                      Drama     7.0      8   Gaurav Bakshi      467     1474   \n",
            "3            Comedy, Romance     4.4     35      Ovais Khan      292     2081   \n",
            "5     Comedy, Drama, Musical     4.7    827    Rahul Rawail     1379     2108   \n",
            "6        Drama, Romance, War     7.4   1086  Shoojit Sircar     1747      155   \n",
            "8  Horror, Mystery, Thriller     5.6    326   Allyson Patel     1137      227   \n",
            "\n",
            "   Actor 3  \n",
            "1     1822  \n",
            "3     1294  \n",
            "5     1178  \n",
            "6     1715  \n",
            "8       29  \n"
          ]
        }
      ]
    },
    {
      "cell_type": "code",
      "source": [
        "df_data['Director'] = label_encoder.fit_transform(df_data['Director'].astype(str))"
      ],
      "metadata": {
        "id": "_RMzDwEs_18P"
      },
      "execution_count": 39,
      "outputs": []
    },
    {
      "cell_type": "code",
      "source": [
        "df_data = pd.concat([df_data, df_data['Genre'].str.get_dummies(sep=', ')], axis=1)"
      ],
      "metadata": {
        "id": "LPbD7GNv-znc"
      },
      "execution_count": 32,
      "outputs": []
    },
    {
      "cell_type": "code",
      "source": [
        "X = df_data.drop(columns=['Name', 'Genre', 'Rating'])\n",
        "y = df_data['Rating']\n",
        "print(df_data.head())"
      ],
      "metadata": {
        "colab": {
          "base_uri": "https://localhost:8080/"
        },
        "id": "v6926JOP-306",
        "outputId": "c1d8d119-e6be-41c5-c635-42d4d9378747"
      },
      "execution_count": 44,
      "outputs": [
        {
          "output_type": "stream",
          "name": "stdout",
          "text": [
            "                                 Name    Year  Duration  \\\n",
            "1  #Gadhvi (He thought he was Gandhi) -2019.0       109   \n",
            "3                             #Yaaram -2019.0       110   \n",
            "5                ...Aur Pyaar Ho Gaya -1997.0       147   \n",
            "6                           ...Yahaan -2005.0       142   \n",
            "8                  ?: A Question Mark -2012.0        82   \n",
            "\n",
            "                       Genre  Rating  Votes  Director  Actor 1  Actor 2  \\\n",
            "1                      Drama     7.0      8       660      467     1474   \n",
            "3            Comedy, Romance     4.4     35      1406      292     2081   \n",
            "5     Comedy, Drama, Musical     4.7    827      1605     1379     2108   \n",
            "6        Drama, Romance, War     7.4   1086      2143     1747      155   \n",
            "8  Horror, Mystery, Thriller     5.6    326       144     1137      227   \n",
            "\n",
            "   Actor 3  ...  Musical  Mystery  News  Romance  Sci-Fi  Sport  Thriller  \\\n",
            "1     1822  ...        0        0     0        0       0      0         0   \n",
            "3     1294  ...        0        0     0        1       0      0         0   \n",
            "5     1178  ...        1        0     0        0       0      0         0   \n",
            "6     1715  ...        0        0     0        1       0      0         0   \n",
            "8       29  ...        0        1     0        0       0      0         1   \n",
            "\n",
            "   Unknown  War  Western  \n",
            "1        0    0        0  \n",
            "3        0    0        0  \n",
            "5        0    0        0  \n",
            "6        0    1        0  \n",
            "8        0    0        0  \n",
            "\n",
            "[5 rows x 33 columns]\n"
          ]
        }
      ]
    },
    {
      "cell_type": "code",
      "source": [
        "X_train, X_test, y_train, y_test = train_test_split(X, y, test_size=0.2, random_state=42)"
      ],
      "metadata": {
        "id": "0zdXML-2_A5-"
      },
      "execution_count": 35,
      "outputs": []
    },
    {
      "cell_type": "code",
      "source": [
        "categorical_columns = X_train.select_dtypes(include=['object']).columns\n",
        "for col in categorical_columns:\n",
        "    X_train[col] = label_encoder.transform(X_train[col])"
      ],
      "metadata": {
        "id": "7Vg4e_n9_JQv"
      },
      "execution_count": 57,
      "outputs": []
    },
    {
      "cell_type": "code",
      "source": [
        "print(X_train.dtypes)"
      ],
      "metadata": {
        "colab": {
          "base_uri": "https://localhost:8080/"
        },
        "id": "wYBcpgOGG1kZ",
        "outputId": "fdcce825-e8a0-422f-afe7-c0b826873107"
      },
      "execution_count": 58,
      "outputs": [
        {
          "output_type": "stream",
          "name": "stdout",
          "text": [
            "Year           float64\n",
            "Duration         int64\n",
            "Votes            int64\n",
            "Director         int64\n",
            "Actor 1          int64\n",
            "Actor 2          int64\n",
            "Actor 3          int64\n",
            "Action           int64\n",
            "Adventure        int64\n",
            "Animation        int64\n",
            "Biography        int64\n",
            "Comedy           int64\n",
            "Crime            int64\n",
            "Documentary      int64\n",
            "Drama            int64\n",
            "Family           int64\n",
            "Fantasy          int64\n",
            "History          int64\n",
            "Horror           int64\n",
            "Music            int64\n",
            "Musical          int64\n",
            "Mystery          int64\n",
            "News             int64\n",
            "Romance          int64\n",
            "Sci-Fi           int64\n",
            "Sport            int64\n",
            "Thriller         int64\n",
            "Unknown          int64\n",
            "War              int64\n",
            "Western          int64\n",
            "dtype: object\n"
          ]
        }
      ]
    },
    {
      "cell_type": "code",
      "source": [
        "model = RandomForestRegressor(n_estimators=100, random_state=42)\n",
        "model.fit(X_train, y_train)"
      ],
      "metadata": {
        "colab": {
          "base_uri": "https://localhost:8080/",
          "height": 75
        },
        "id": "y3CWtOGNG62f",
        "outputId": "3cfb780a-9dc0-42dc-999d-e1be41db7b7c"
      },
      "execution_count": 59,
      "outputs": [
        {
          "output_type": "execute_result",
          "data": {
            "text/plain": [
              "RandomForestRegressor(random_state=42)"
            ],
            "text/html": [
              "<style>#sk-container-id-1 {color: black;background-color: white;}#sk-container-id-1 pre{padding: 0;}#sk-container-id-1 div.sk-toggleable {background-color: white;}#sk-container-id-1 label.sk-toggleable__label {cursor: pointer;display: block;width: 100%;margin-bottom: 0;padding: 0.3em;box-sizing: border-box;text-align: center;}#sk-container-id-1 label.sk-toggleable__label-arrow:before {content: \"▸\";float: left;margin-right: 0.25em;color: #696969;}#sk-container-id-1 label.sk-toggleable__label-arrow:hover:before {color: black;}#sk-container-id-1 div.sk-estimator:hover label.sk-toggleable__label-arrow:before {color: black;}#sk-container-id-1 div.sk-toggleable__content {max-height: 0;max-width: 0;overflow: hidden;text-align: left;background-color: #f0f8ff;}#sk-container-id-1 div.sk-toggleable__content pre {margin: 0.2em;color: black;border-radius: 0.25em;background-color: #f0f8ff;}#sk-container-id-1 input.sk-toggleable__control:checked~div.sk-toggleable__content {max-height: 200px;max-width: 100%;overflow: auto;}#sk-container-id-1 input.sk-toggleable__control:checked~label.sk-toggleable__label-arrow:before {content: \"▾\";}#sk-container-id-1 div.sk-estimator input.sk-toggleable__control:checked~label.sk-toggleable__label {background-color: #d4ebff;}#sk-container-id-1 div.sk-label input.sk-toggleable__control:checked~label.sk-toggleable__label {background-color: #d4ebff;}#sk-container-id-1 input.sk-hidden--visually {border: 0;clip: rect(1px 1px 1px 1px);clip: rect(1px, 1px, 1px, 1px);height: 1px;margin: -1px;overflow: hidden;padding: 0;position: absolute;width: 1px;}#sk-container-id-1 div.sk-estimator {font-family: monospace;background-color: #f0f8ff;border: 1px dotted black;border-radius: 0.25em;box-sizing: border-box;margin-bottom: 0.5em;}#sk-container-id-1 div.sk-estimator:hover {background-color: #d4ebff;}#sk-container-id-1 div.sk-parallel-item::after {content: \"\";width: 100%;border-bottom: 1px solid gray;flex-grow: 1;}#sk-container-id-1 div.sk-label:hover label.sk-toggleable__label {background-color: #d4ebff;}#sk-container-id-1 div.sk-serial::before {content: \"\";position: absolute;border-left: 1px solid gray;box-sizing: border-box;top: 0;bottom: 0;left: 50%;z-index: 0;}#sk-container-id-1 div.sk-serial {display: flex;flex-direction: column;align-items: center;background-color: white;padding-right: 0.2em;padding-left: 0.2em;position: relative;}#sk-container-id-1 div.sk-item {position: relative;z-index: 1;}#sk-container-id-1 div.sk-parallel {display: flex;align-items: stretch;justify-content: center;background-color: white;position: relative;}#sk-container-id-1 div.sk-item::before, #sk-container-id-1 div.sk-parallel-item::before {content: \"\";position: absolute;border-left: 1px solid gray;box-sizing: border-box;top: 0;bottom: 0;left: 50%;z-index: -1;}#sk-container-id-1 div.sk-parallel-item {display: flex;flex-direction: column;z-index: 1;position: relative;background-color: white;}#sk-container-id-1 div.sk-parallel-item:first-child::after {align-self: flex-end;width: 50%;}#sk-container-id-1 div.sk-parallel-item:last-child::after {align-self: flex-start;width: 50%;}#sk-container-id-1 div.sk-parallel-item:only-child::after {width: 0;}#sk-container-id-1 div.sk-dashed-wrapped {border: 1px dashed gray;margin: 0 0.4em 0.5em 0.4em;box-sizing: border-box;padding-bottom: 0.4em;background-color: white;}#sk-container-id-1 div.sk-label label {font-family: monospace;font-weight: bold;display: inline-block;line-height: 1.2em;}#sk-container-id-1 div.sk-label-container {text-align: center;}#sk-container-id-1 div.sk-container {/* jupyter's `normalize.less` sets `[hidden] { display: none; }` but bootstrap.min.css set `[hidden] { display: none !important; }` so we also need the `!important` here to be able to override the default hidden behavior on the sphinx rendered scikit-learn.org. See: https://github.com/scikit-learn/scikit-learn/issues/21755 */display: inline-block !important;position: relative;}#sk-container-id-1 div.sk-text-repr-fallback {display: none;}</style><div id=\"sk-container-id-1\" class=\"sk-top-container\"><div class=\"sk-text-repr-fallback\"><pre>RandomForestRegressor(random_state=42)</pre><b>In a Jupyter environment, please rerun this cell to show the HTML representation or trust the notebook. <br />On GitHub, the HTML representation is unable to render, please try loading this page with nbviewer.org.</b></div><div class=\"sk-container\" hidden><div class=\"sk-item\"><div class=\"sk-estimator sk-toggleable\"><input class=\"sk-toggleable__control sk-hidden--visually\" id=\"sk-estimator-id-1\" type=\"checkbox\" checked><label for=\"sk-estimator-id-1\" class=\"sk-toggleable__label sk-toggleable__label-arrow\">RandomForestRegressor</label><div class=\"sk-toggleable__content\"><pre>RandomForestRegressor(random_state=42)</pre></div></div></div></div></div>"
            ]
          },
          "metadata": {},
          "execution_count": 59
        }
      ]
    },
    {
      "cell_type": "code",
      "source": [
        "print(X_test.dtypes)"
      ],
      "metadata": {
        "colab": {
          "base_uri": "https://localhost:8080/"
        },
        "id": "9c0xIvvpHCKR",
        "outputId": "478cf48d-2fda-45f8-9d0d-7f3b90d7dea4"
      },
      "execution_count": 63,
      "outputs": [
        {
          "output_type": "stream",
          "name": "stdout",
          "text": [
            "Year           float64\n",
            "Duration         int64\n",
            "Votes            int64\n",
            "Director        object\n",
            "Actor 1          int64\n",
            "Actor 2          int64\n",
            "Actor 3          int64\n",
            "Action           int64\n",
            "Adventure        int64\n",
            "Animation        int64\n",
            "Biography        int64\n",
            "Comedy           int64\n",
            "Crime            int64\n",
            "Documentary      int64\n",
            "Drama            int64\n",
            "Family           int64\n",
            "Fantasy          int64\n",
            "History          int64\n",
            "Horror           int64\n",
            "Music            int64\n",
            "Musical          int64\n",
            "Mystery          int64\n",
            "News             int64\n",
            "Romance          int64\n",
            "Sci-Fi           int64\n",
            "Sport            int64\n",
            "Thriller         int64\n",
            "Unknown          int64\n",
            "War              int64\n",
            "Western          int64\n",
            "dtype: object\n"
          ]
        }
      ]
    },
    {
      "cell_type": "code",
      "source": [
        "X_test[col] = label_encoder.transform(X_test[col])"
      ],
      "metadata": {
        "id": "i7Nhv0L-IUme"
      },
      "execution_count": 65,
      "outputs": []
    },
    {
      "cell_type": "code",
      "source": [
        "y_pred = model.predict(X_test)"
      ],
      "metadata": {
        "id": "5m9a1BAXIHZs"
      },
      "execution_count": 66,
      "outputs": []
    },
    {
      "cell_type": "code",
      "source": [
        "mse = mean_squared_error(y_test, y_pred)\n",
        "print(f\"Mean Squared Error: {mse}\")"
      ],
      "metadata": {
        "colab": {
          "base_uri": "https://localhost:8080/"
        },
        "id": "rhiYJZmUIZHX",
        "outputId": "9730a12b-eaf2-4215-9e8a-67d6f29e6f58"
      },
      "execution_count": 67,
      "outputs": [
        {
          "output_type": "stream",
          "name": "stdout",
          "text": [
            "Mean Squared Error: 1.2444948368915458\n"
          ]
        }
      ]
    },
    {
      "cell_type": "code",
      "source": [
        "df_data.head()"
      ],
      "metadata": {
        "colab": {
          "base_uri": "https://localhost:8080/",
          "height": 464
        },
        "id": "MsN4nAuAI3zb",
        "outputId": "043a44a3-7ea5-475c-eb48-584acb4e9207"
      },
      "execution_count": 70,
      "outputs": [
        {
          "output_type": "execute_result",
          "data": {
            "text/plain": [
              "                                 Name    Year  Duration  \\\n",
              "1  #Gadhvi (He thought he was Gandhi) -2019.0       109   \n",
              "3                             #Yaaram -2019.0       110   \n",
              "5                ...Aur Pyaar Ho Gaya -1997.0       147   \n",
              "6                           ...Yahaan -2005.0       142   \n",
              "8                  ?: A Question Mark -2012.0        82   \n",
              "\n",
              "                       Genre  Rating  Votes  Actor 1  Actor 2  Actor 3  \\\n",
              "1                      Drama     7.0      8      467     1474     1822   \n",
              "3            Comedy, Romance     4.4     35      292     2081     1294   \n",
              "5     Comedy, Drama, Musical     4.7    827     1379     2108     1178   \n",
              "6        Drama, Romance, War     7.4   1086     1747      155     1715   \n",
              "8  Horror, Mystery, Thriller     5.6    326     1137      227       29   \n",
              "\n",
              "   Action  ...  Director_2540  Director_2541  Director_2542  Director_2543  \\\n",
              "1       0  ...          False          False          False          False   \n",
              "3       0  ...          False          False          False          False   \n",
              "5       0  ...          False          False          False          False   \n",
              "6       0  ...          False          False          False          False   \n",
              "8       0  ...          False          False          False          False   \n",
              "\n",
              "   Director_2544  Director_2545  Director_2546  Director_2547  Director_2548  \\\n",
              "1          False          False          False          False          False   \n",
              "3          False          False          False          False          False   \n",
              "5          False          False          False          False          False   \n",
              "6          False          False          False          False          False   \n",
              "8          False          False          False          False          False   \n",
              "\n",
              "   Director_2549  \n",
              "1          False  \n",
              "3          False  \n",
              "5          False  \n",
              "6          False  \n",
              "8          False  \n",
              "\n",
              "[5 rows x 2581 columns]"
            ],
            "text/html": [
              "\n",
              "  <div id=\"df-1c30d1ac-320c-419d-b45e-700cf389a823\" class=\"colab-df-container\">\n",
              "    <div>\n",
              "<style scoped>\n",
              "    .dataframe tbody tr th:only-of-type {\n",
              "        vertical-align: middle;\n",
              "    }\n",
              "\n",
              "    .dataframe tbody tr th {\n",
              "        vertical-align: top;\n",
              "    }\n",
              "\n",
              "    .dataframe thead th {\n",
              "        text-align: right;\n",
              "    }\n",
              "</style>\n",
              "<table border=\"1\" class=\"dataframe\">\n",
              "  <thead>\n",
              "    <tr style=\"text-align: right;\">\n",
              "      <th></th>\n",
              "      <th>Name</th>\n",
              "      <th>Year</th>\n",
              "      <th>Duration</th>\n",
              "      <th>Genre</th>\n",
              "      <th>Rating</th>\n",
              "      <th>Votes</th>\n",
              "      <th>Actor 1</th>\n",
              "      <th>Actor 2</th>\n",
              "      <th>Actor 3</th>\n",
              "      <th>Action</th>\n",
              "      <th>...</th>\n",
              "      <th>Director_2540</th>\n",
              "      <th>Director_2541</th>\n",
              "      <th>Director_2542</th>\n",
              "      <th>Director_2543</th>\n",
              "      <th>Director_2544</th>\n",
              "      <th>Director_2545</th>\n",
              "      <th>Director_2546</th>\n",
              "      <th>Director_2547</th>\n",
              "      <th>Director_2548</th>\n",
              "      <th>Director_2549</th>\n",
              "    </tr>\n",
              "  </thead>\n",
              "  <tbody>\n",
              "    <tr>\n",
              "      <th>1</th>\n",
              "      <td>#Gadhvi (He thought he was Gandhi)</td>\n",
              "      <td>-2019.0</td>\n",
              "      <td>109</td>\n",
              "      <td>Drama</td>\n",
              "      <td>7.0</td>\n",
              "      <td>8</td>\n",
              "      <td>467</td>\n",
              "      <td>1474</td>\n",
              "      <td>1822</td>\n",
              "      <td>0</td>\n",
              "      <td>...</td>\n",
              "      <td>False</td>\n",
              "      <td>False</td>\n",
              "      <td>False</td>\n",
              "      <td>False</td>\n",
              "      <td>False</td>\n",
              "      <td>False</td>\n",
              "      <td>False</td>\n",
              "      <td>False</td>\n",
              "      <td>False</td>\n",
              "      <td>False</td>\n",
              "    </tr>\n",
              "    <tr>\n",
              "      <th>3</th>\n",
              "      <td>#Yaaram</td>\n",
              "      <td>-2019.0</td>\n",
              "      <td>110</td>\n",
              "      <td>Comedy, Romance</td>\n",
              "      <td>4.4</td>\n",
              "      <td>35</td>\n",
              "      <td>292</td>\n",
              "      <td>2081</td>\n",
              "      <td>1294</td>\n",
              "      <td>0</td>\n",
              "      <td>...</td>\n",
              "      <td>False</td>\n",
              "      <td>False</td>\n",
              "      <td>False</td>\n",
              "      <td>False</td>\n",
              "      <td>False</td>\n",
              "      <td>False</td>\n",
              "      <td>False</td>\n",
              "      <td>False</td>\n",
              "      <td>False</td>\n",
              "      <td>False</td>\n",
              "    </tr>\n",
              "    <tr>\n",
              "      <th>5</th>\n",
              "      <td>...Aur Pyaar Ho Gaya</td>\n",
              "      <td>-1997.0</td>\n",
              "      <td>147</td>\n",
              "      <td>Comedy, Drama, Musical</td>\n",
              "      <td>4.7</td>\n",
              "      <td>827</td>\n",
              "      <td>1379</td>\n",
              "      <td>2108</td>\n",
              "      <td>1178</td>\n",
              "      <td>0</td>\n",
              "      <td>...</td>\n",
              "      <td>False</td>\n",
              "      <td>False</td>\n",
              "      <td>False</td>\n",
              "      <td>False</td>\n",
              "      <td>False</td>\n",
              "      <td>False</td>\n",
              "      <td>False</td>\n",
              "      <td>False</td>\n",
              "      <td>False</td>\n",
              "      <td>False</td>\n",
              "    </tr>\n",
              "    <tr>\n",
              "      <th>6</th>\n",
              "      <td>...Yahaan</td>\n",
              "      <td>-2005.0</td>\n",
              "      <td>142</td>\n",
              "      <td>Drama, Romance, War</td>\n",
              "      <td>7.4</td>\n",
              "      <td>1086</td>\n",
              "      <td>1747</td>\n",
              "      <td>155</td>\n",
              "      <td>1715</td>\n",
              "      <td>0</td>\n",
              "      <td>...</td>\n",
              "      <td>False</td>\n",
              "      <td>False</td>\n",
              "      <td>False</td>\n",
              "      <td>False</td>\n",
              "      <td>False</td>\n",
              "      <td>False</td>\n",
              "      <td>False</td>\n",
              "      <td>False</td>\n",
              "      <td>False</td>\n",
              "      <td>False</td>\n",
              "    </tr>\n",
              "    <tr>\n",
              "      <th>8</th>\n",
              "      <td>?: A Question Mark</td>\n",
              "      <td>-2012.0</td>\n",
              "      <td>82</td>\n",
              "      <td>Horror, Mystery, Thriller</td>\n",
              "      <td>5.6</td>\n",
              "      <td>326</td>\n",
              "      <td>1137</td>\n",
              "      <td>227</td>\n",
              "      <td>29</td>\n",
              "      <td>0</td>\n",
              "      <td>...</td>\n",
              "      <td>False</td>\n",
              "      <td>False</td>\n",
              "      <td>False</td>\n",
              "      <td>False</td>\n",
              "      <td>False</td>\n",
              "      <td>False</td>\n",
              "      <td>False</td>\n",
              "      <td>False</td>\n",
              "      <td>False</td>\n",
              "      <td>False</td>\n",
              "    </tr>\n",
              "  </tbody>\n",
              "</table>\n",
              "<p>5 rows × 2581 columns</p>\n",
              "</div>\n",
              "    <div class=\"colab-df-buttons\">\n",
              "\n",
              "  <div class=\"colab-df-container\">\n",
              "    <button class=\"colab-df-convert\" onclick=\"convertToInteractive('df-1c30d1ac-320c-419d-b45e-700cf389a823')\"\n",
              "            title=\"Convert this dataframe to an interactive table.\"\n",
              "            style=\"display:none;\">\n",
              "\n",
              "  <svg xmlns=\"http://www.w3.org/2000/svg\" height=\"24px\" viewBox=\"0 -960 960 960\">\n",
              "    <path d=\"M120-120v-720h720v720H120Zm60-500h600v-160H180v160Zm220 220h160v-160H400v160Zm0 220h160v-160H400v160ZM180-400h160v-160H180v160Zm440 0h160v-160H620v160ZM180-180h160v-160H180v160Zm440 0h160v-160H620v160Z\"/>\n",
              "  </svg>\n",
              "    </button>\n",
              "\n",
              "  <style>\n",
              "    .colab-df-container {\n",
              "      display:flex;\n",
              "      gap: 12px;\n",
              "    }\n",
              "\n",
              "    .colab-df-convert {\n",
              "      background-color: #E8F0FE;\n",
              "      border: none;\n",
              "      border-radius: 50%;\n",
              "      cursor: pointer;\n",
              "      display: none;\n",
              "      fill: #1967D2;\n",
              "      height: 32px;\n",
              "      padding: 0 0 0 0;\n",
              "      width: 32px;\n",
              "    }\n",
              "\n",
              "    .colab-df-convert:hover {\n",
              "      background-color: #E2EBFA;\n",
              "      box-shadow: 0px 1px 2px rgba(60, 64, 67, 0.3), 0px 1px 3px 1px rgba(60, 64, 67, 0.15);\n",
              "      fill: #174EA6;\n",
              "    }\n",
              "\n",
              "    .colab-df-buttons div {\n",
              "      margin-bottom: 4px;\n",
              "    }\n",
              "\n",
              "    [theme=dark] .colab-df-convert {\n",
              "      background-color: #3B4455;\n",
              "      fill: #D2E3FC;\n",
              "    }\n",
              "\n",
              "    [theme=dark] .colab-df-convert:hover {\n",
              "      background-color: #434B5C;\n",
              "      box-shadow: 0px 1px 3px 1px rgba(0, 0, 0, 0.15);\n",
              "      filter: drop-shadow(0px 1px 2px rgba(0, 0, 0, 0.3));\n",
              "      fill: #FFFFFF;\n",
              "    }\n",
              "  </style>\n",
              "\n",
              "    <script>\n",
              "      const buttonEl =\n",
              "        document.querySelector('#df-1c30d1ac-320c-419d-b45e-700cf389a823 button.colab-df-convert');\n",
              "      buttonEl.style.display =\n",
              "        google.colab.kernel.accessAllowed ? 'block' : 'none';\n",
              "\n",
              "      async function convertToInteractive(key) {\n",
              "        const element = document.querySelector('#df-1c30d1ac-320c-419d-b45e-700cf389a823');\n",
              "        const dataTable =\n",
              "          await google.colab.kernel.invokeFunction('convertToInteractive',\n",
              "                                                    [key], {});\n",
              "        if (!dataTable) return;\n",
              "\n",
              "        const docLinkHtml = 'Like what you see? Visit the ' +\n",
              "          '<a target=\"_blank\" href=https://colab.research.google.com/notebooks/data_table.ipynb>data table notebook</a>'\n",
              "          + ' to learn more about interactive tables.';\n",
              "        element.innerHTML = '';\n",
              "        dataTable['output_type'] = 'display_data';\n",
              "        await google.colab.output.renderOutput(dataTable, element);\n",
              "        const docLink = document.createElement('div');\n",
              "        docLink.innerHTML = docLinkHtml;\n",
              "        element.appendChild(docLink);\n",
              "      }\n",
              "    </script>\n",
              "  </div>\n",
              "\n",
              "\n",
              "<div id=\"df-dd403ddd-3024-4e4d-b948-c2bd053ea133\">\n",
              "  <button class=\"colab-df-quickchart\" onclick=\"quickchart('df-dd403ddd-3024-4e4d-b948-c2bd053ea133')\"\n",
              "            title=\"Suggest charts\"\n",
              "            style=\"display:none;\">\n",
              "\n",
              "<svg xmlns=\"http://www.w3.org/2000/svg\" height=\"24px\"viewBox=\"0 0 24 24\"\n",
              "     width=\"24px\">\n",
              "    <g>\n",
              "        <path d=\"M19 3H5c-1.1 0-2 .9-2 2v14c0 1.1.9 2 2 2h14c1.1 0 2-.9 2-2V5c0-1.1-.9-2-2-2zM9 17H7v-7h2v7zm4 0h-2V7h2v10zm4 0h-2v-4h2v4z\"/>\n",
              "    </g>\n",
              "</svg>\n",
              "  </button>\n",
              "\n",
              "<style>\n",
              "  .colab-df-quickchart {\n",
              "      --bg-color: #E8F0FE;\n",
              "      --fill-color: #1967D2;\n",
              "      --hover-bg-color: #E2EBFA;\n",
              "      --hover-fill-color: #174EA6;\n",
              "      --disabled-fill-color: #AAA;\n",
              "      --disabled-bg-color: #DDD;\n",
              "  }\n",
              "\n",
              "  [theme=dark] .colab-df-quickchart {\n",
              "      --bg-color: #3B4455;\n",
              "      --fill-color: #D2E3FC;\n",
              "      --hover-bg-color: #434B5C;\n",
              "      --hover-fill-color: #FFFFFF;\n",
              "      --disabled-bg-color: #3B4455;\n",
              "      --disabled-fill-color: #666;\n",
              "  }\n",
              "\n",
              "  .colab-df-quickchart {\n",
              "    background-color: var(--bg-color);\n",
              "    border: none;\n",
              "    border-radius: 50%;\n",
              "    cursor: pointer;\n",
              "    display: none;\n",
              "    fill: var(--fill-color);\n",
              "    height: 32px;\n",
              "    padding: 0;\n",
              "    width: 32px;\n",
              "  }\n",
              "\n",
              "  .colab-df-quickchart:hover {\n",
              "    background-color: var(--hover-bg-color);\n",
              "    box-shadow: 0 1px 2px rgba(60, 64, 67, 0.3), 0 1px 3px 1px rgba(60, 64, 67, 0.15);\n",
              "    fill: var(--button-hover-fill-color);\n",
              "  }\n",
              "\n",
              "  .colab-df-quickchart-complete:disabled,\n",
              "  .colab-df-quickchart-complete:disabled:hover {\n",
              "    background-color: var(--disabled-bg-color);\n",
              "    fill: var(--disabled-fill-color);\n",
              "    box-shadow: none;\n",
              "  }\n",
              "\n",
              "  .colab-df-spinner {\n",
              "    border: 2px solid var(--fill-color);\n",
              "    border-color: transparent;\n",
              "    border-bottom-color: var(--fill-color);\n",
              "    animation:\n",
              "      spin 1s steps(1) infinite;\n",
              "  }\n",
              "\n",
              "  @keyframes spin {\n",
              "    0% {\n",
              "      border-color: transparent;\n",
              "      border-bottom-color: var(--fill-color);\n",
              "      border-left-color: var(--fill-color);\n",
              "    }\n",
              "    20% {\n",
              "      border-color: transparent;\n",
              "      border-left-color: var(--fill-color);\n",
              "      border-top-color: var(--fill-color);\n",
              "    }\n",
              "    30% {\n",
              "      border-color: transparent;\n",
              "      border-left-color: var(--fill-color);\n",
              "      border-top-color: var(--fill-color);\n",
              "      border-right-color: var(--fill-color);\n",
              "    }\n",
              "    40% {\n",
              "      border-color: transparent;\n",
              "      border-right-color: var(--fill-color);\n",
              "      border-top-color: var(--fill-color);\n",
              "    }\n",
              "    60% {\n",
              "      border-color: transparent;\n",
              "      border-right-color: var(--fill-color);\n",
              "    }\n",
              "    80% {\n",
              "      border-color: transparent;\n",
              "      border-right-color: var(--fill-color);\n",
              "      border-bottom-color: var(--fill-color);\n",
              "    }\n",
              "    90% {\n",
              "      border-color: transparent;\n",
              "      border-bottom-color: var(--fill-color);\n",
              "    }\n",
              "  }\n",
              "</style>\n",
              "\n",
              "  <script>\n",
              "    async function quickchart(key) {\n",
              "      const quickchartButtonEl =\n",
              "        document.querySelector('#' + key + ' button');\n",
              "      quickchartButtonEl.disabled = true;  // To prevent multiple clicks.\n",
              "      quickchartButtonEl.classList.add('colab-df-spinner');\n",
              "      try {\n",
              "        const charts = await google.colab.kernel.invokeFunction(\n",
              "            'suggestCharts', [key], {});\n",
              "      } catch (error) {\n",
              "        console.error('Error during call to suggestCharts:', error);\n",
              "      }\n",
              "      quickchartButtonEl.classList.remove('colab-df-spinner');\n",
              "      quickchartButtonEl.classList.add('colab-df-quickchart-complete');\n",
              "    }\n",
              "    (() => {\n",
              "      let quickchartButtonEl =\n",
              "        document.querySelector('#df-dd403ddd-3024-4e4d-b948-c2bd053ea133 button');\n",
              "      quickchartButtonEl.style.display =\n",
              "        google.colab.kernel.accessAllowed ? 'block' : 'none';\n",
              "    })();\n",
              "  </script>\n",
              "</div>\n",
              "\n",
              "    </div>\n",
              "  </div>\n"
            ],
            "application/vnd.google.colaboratory.intrinsic+json": {
              "type": "dataframe",
              "variable_name": "df_data"
            }
          },
          "metadata": {},
          "execution_count": 70
        }
      ]
    },
    {
      "cell_type": "code",
      "source": [
        "print(f\"Sample Predictions: {y_pred[:5]}\")"
      ],
      "metadata": {
        "colab": {
          "base_uri": "https://localhost:8080/"
        },
        "id": "3IyqYQccIhq9",
        "outputId": "85b5edb0-2754-4511-a103-216201547ae4"
      },
      "execution_count": 68,
      "outputs": [
        {
          "output_type": "stream",
          "name": "stdout",
          "text": [
            "Sample Predictions: [5.548 5.769 7.277 4.657 6.409]\n"
          ]
        }
      ]
    },
    {
      "cell_type": "code",
      "source": [
        "subset = df_data.iloc[[0, 1, 2, 3, 4], :].loc[:, ['Name', 'Year', 'Duration', 'Rating', 'Actor 1', 'Actor 2', 'Actor 3']]\n",
        "print(subset)"
      ],
      "metadata": {
        "colab": {
          "base_uri": "https://localhost:8080/"
        },
        "id": "qxpkcB_HMLVU",
        "outputId": "76a12e63-6539-414e-e8bb-07c77e6180a0"
      },
      "execution_count": 91,
      "outputs": [
        {
          "output_type": "stream",
          "name": "stdout",
          "text": [
            "                                 Name    Year  Duration  Rating  Actor 1  \\\n",
            "1  #Gadhvi (He thought he was Gandhi) -2019.0       109     7.0      467   \n",
            "3                             #Yaaram -2019.0       110     4.4      292   \n",
            "5                ...Aur Pyaar Ho Gaya -1997.0       147     4.7     1379   \n",
            "6                           ...Yahaan -2005.0       142     7.4     1747   \n",
            "8                  ?: A Question Mark -2012.0        82     5.6     1137   \n",
            "\n",
            "   Actor 2  Actor 3  \n",
            "1     1474     1822  \n",
            "3     2081     1294  \n",
            "5     2108     1178  \n",
            "6      155     1715  \n",
            "8      227       29  \n"
          ]
        }
      ]
    },
    {
      "cell_type": "code",
      "source": [
        "plt.figure(figsize=(14,7))\n"
      ],
      "metadata": {
        "colab": {
          "base_uri": "https://localhost:8080/",
          "height": 52
        },
        "id": "_kjpDBpQIk9j",
        "outputId": "a16fdc79-fa78-4c96-a6ec-113e69f14021"
      },
      "execution_count": 73,
      "outputs": [
        {
          "output_type": "execute_result",
          "data": {
            "text/plain": [
              "<Figure size 1400x700 with 0 Axes>"
            ]
          },
          "metadata": {},
          "execution_count": 73
        },
        {
          "output_type": "display_data",
          "data": {
            "text/plain": [
              "<Figure size 1400x700 with 0 Axes>"
            ]
          },
          "metadata": {}
        }
      ]
    },
    {
      "cell_type": "code",
      "source": [
        "plt.subplot(2,2,1)\n",
        "sns.histplot(df_data['Year'], kde=True, color='g')\n",
        "plt.title('Year Distribution')"
      ],
      "metadata": {
        "colab": {
          "base_uri": "https://localhost:8080/",
          "height": 287
        },
        "id": "g9fT_g_lKvz0",
        "outputId": "b4a7bcd0-0f11-4d2a-9424-e4b856495156"
      },
      "execution_count": 86,
      "outputs": [
        {
          "output_type": "execute_result",
          "data": {
            "text/plain": [
              "Text(0.5, 1.0, 'Year Distribution')"
            ]
          },
          "metadata": {},
          "execution_count": 86
        },
        {
          "output_type": "display_data",
          "data": {
            "text/plain": [
              "<Figure size 640x480 with 1 Axes>"
            ],
            "image/png": "[encoded data removed]"
          },
          "metadata": {}
        }
      ]
    },
    {
      "cell_type": "code",
      "source": [
        "plt.subplot(2,2,2)\n",
        "sns.histplot(df_data['Rating'], kde=True, color='g')\n",
        "plt.title('Rating Distribution')"
      ],
      "metadata": {
        "colab": {
          "base_uri": "https://localhost:8080/",
          "height": 287
        },
        "id": "0jsws6LoLaoI",
        "outputId": "77c3776f-6cf4-4cb2-a312-e34b6bc492b4"
      },
      "execution_count": 87,
      "outputs": [
        {
          "output_type": "execute_result",
          "data": {
            "text/plain": [
              "Text(0.5, 1.0, 'Rating Distribution')"
            ]
          },
          "metadata": {},
          "execution_count": 87
        },
        {
          "output_type": "display_data",
          "data": {
            "text/plain": [
              "<Figure size 640x480 with 1 Axes>"
            ],
            "image/png": "[encoded data removed]"
          },
          "metadata": {}
        }
      ]
    },
    {
      "cell_type": "code",
      "source": [
        "plt.subplot(2,2,2)\n",
        "sns.scatterplot(x='Duration', y='Rating', data=df_data)\n",
        "plt.title('Duration vs Rating')"
      ],
      "metadata": {
        "colab": {
          "base_uri": "https://localhost:8080/",
          "height": 287
        },
        "id": "iJi-LDHBLjNH",
        "outputId": "6ee6295c-9f67-4cb4-cccd-d122ac67d4bc"
      },
      "execution_count": 89,
      "outputs": [
        {
          "output_type": "execute_result",
          "data": {
            "text/plain": [
              "Text(0.5, 1.0, 'Duration vs Rating')"
            ]
          },
          "metadata": {},
          "execution_count": 89
        },
        {
          "output_type": "display_data",
          "data": {
            "text/plain": [
              "<Figure size 640x480 with 1 Axes>"
            ],
            "image/png": "[encoded data removed]"
          },
          "metadata": {}
        }
      ]
    },
    {
      "cell_type": "code",
      "source": [
        "plt.tight_layout()\n",
        "plt.show()"
      ],
      "metadata": {
        "colab": {
          "base_uri": "https://localhost:8080/",
          "height": 34
        },
        "id": "MzKyxcAIL_3e",
        "outputId": "33e56526-ed80-4b9c-f270-8aa0299e3af2"
      },
      "execution_count": 90,
      "outputs": [
        {
          "output_type": "display_data",
          "data": {
            "text/plain": [
              "<Figure size 640x480 with 0 Axes>"
            ]
          },
          "metadata": {}
        }
      ]
    }
  ]
}